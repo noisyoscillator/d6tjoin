{
 "cells": [
  {
   "cell_type": "markdown",
   "metadata": {},
   "source": [
    "# Data Engineering in Python with databolt  - Identify and analyze join problems (d6tlib/d6tjoin.utils)\n",
    "\n",
    "## Introduction\n",
    "\n",
    "Joining datasets is a common data engineering operation. However, often there are problems merging datasets from different sources because of mismatched identifiers, date conventions etc. \n",
    "\n",
    "** `d6tjoin.utils` module allows you to test for join accuracy and quickly identify and analyze join problems. **\n",
    "\n",
    "Here are some examples which show you how to:\n",
    "* do join quality analysis prior to attempting a join\n",
    "* detect and analyze a string-based identifiers mismatch\n",
    "* detect and analyze a date mismatch"
   ]
  },
  {
   "cell_type": "markdown",
   "metadata": {},
   "source": [
    "## Generate sample data\n",
    "\n",
    "Let's generate some random respresentative data:\n",
    "* identifier (string)\n",
    "* date (np.datetime)\n",
    "* values (flaot)"
   ]
  },
  {
   "cell_type": "code",
   "execution_count": 5,
   "metadata": {},
   "outputs": [],
   "source": [
    "import pandas as pd\n",
    "import numpy as np\n",
    "import uuid\n",
    "import itertools\n",
    "import importlib\n",
    "\n",
    "import d6tjoin.utils\n",
    "importlib.reload(d6tjoin.utils)\n",
    "\n",
    "# ******************************************\n",
    "# generate sample data\n",
    "# ******************************************\n",
    "nobs = 10\n",
    "uuid1 = [str(uuid.uuid4()) for _ in range(nobs)]\n",
    "dates1 = pd.date_range('1/1/2010','1/1/2011')\n",
    "\n",
    "df1 = pd.DataFrame(list(itertools.product(uuid1,dates1)),columns=['id','date'])\n",
    "df1['v']=np.random.sample(df1.shape[0])"
   ]
  },
  {
   "cell_type": "code",
   "execution_count": 6,
   "metadata": {},
   "outputs": [
    {
     "data": {
      "text/html": [
       "<div>\n",
       "<style scoped>\n",
       "    .dataframe tbody tr th:only-of-type {\n",
       "        vertical-align: middle;\n",
       "    }\n",
       "\n",
       "    .dataframe tbody tr th {\n",
       "        vertical-align: top;\n",
       "    }\n",
       "\n",
       "    .dataframe thead th {\n",
       "        text-align: right;\n",
       "    }\n",
       "</style>\n",
       "<table border=\"1\" class=\"dataframe\">\n",
       "  <thead>\n",
       "    <tr style=\"text-align: right;\">\n",
       "      <th></th>\n",
       "      <th>id</th>\n",
       "      <th>date</th>\n",
       "      <th>v</th>\n",
       "    </tr>\n",
       "  </thead>\n",
       "  <tbody>\n",
       "    <tr>\n",
       "      <th>0</th>\n",
       "      <td>a531acd5-cdfd-480b-ba7f-5766f85053ac</td>\n",
       "      <td>2010-01-01</td>\n",
       "      <td>0.777782</td>\n",
       "    </tr>\n",
       "    <tr>\n",
       "      <th>1</th>\n",
       "      <td>a531acd5-cdfd-480b-ba7f-5766f85053ac</td>\n",
       "      <td>2010-01-02</td>\n",
       "      <td>0.893936</td>\n",
       "    </tr>\n",
       "    <tr>\n",
       "      <th>366</th>\n",
       "      <td>40c75a77-dc5f-4ae2-99b6-bd34871ca98e</td>\n",
       "      <td>2010-01-01</td>\n",
       "      <td>0.301851</td>\n",
       "    </tr>\n",
       "    <tr>\n",
       "      <th>367</th>\n",
       "      <td>40c75a77-dc5f-4ae2-99b6-bd34871ca98e</td>\n",
       "      <td>2010-01-02</td>\n",
       "      <td>0.770794</td>\n",
       "    </tr>\n",
       "    <tr>\n",
       "      <th>732</th>\n",
       "      <td>818c280b-0d82-45e5-8286-cf42b884b0a6</td>\n",
       "      <td>2010-01-01</td>\n",
       "      <td>0.796229</td>\n",
       "    </tr>\n",
       "    <tr>\n",
       "      <th>733</th>\n",
       "      <td>818c280b-0d82-45e5-8286-cf42b884b0a6</td>\n",
       "      <td>2010-01-02</td>\n",
       "      <td>0.811402</td>\n",
       "    </tr>\n",
       "  </tbody>\n",
       "</table>\n",
       "</div>"
      ],
      "text/plain": [
       "                                       id       date         v\n",
       "0    a531acd5-cdfd-480b-ba7f-5766f85053ac 2010-01-01  0.777782\n",
       "1    a531acd5-cdfd-480b-ba7f-5766f85053ac 2010-01-02  0.893936\n",
       "366  40c75a77-dc5f-4ae2-99b6-bd34871ca98e 2010-01-01  0.301851\n",
       "367  40c75a77-dc5f-4ae2-99b6-bd34871ca98e 2010-01-02  0.770794\n",
       "732  818c280b-0d82-45e5-8286-cf42b884b0a6 2010-01-01  0.796229\n",
       "733  818c280b-0d82-45e5-8286-cf42b884b0a6 2010-01-02  0.811402"
      ]
     },
     "execution_count": 6,
     "metadata": {},
     "output_type": "execute_result"
    }
   ],
   "source": [
    "df1.groupby(['id']).head(2).head(6)"
   ]
  },
  {
   "cell_type": "markdown",
   "metadata": {},
   "source": [
    "## Use Case: assert 100% join accuracy for data integrity checks \n",
    "\n",
    "In data enginerring QA you want to test that data is joined correctly. This is particularly useful for detecting potential data problems in production."
   ]
  },
  {
   "cell_type": "code",
   "execution_count": 7,
   "metadata": {},
   "outputs": [],
   "source": [
    "df2 = df1.copy()\n",
    "\n",
    "j = d6tjoin.utils.PreJoin([df1,df2],['id','date'])\n",
    "assert j.is_all_matched() # succeeds\n",
    "assert j.is_all_matched('id') # succeeds\n",
    "assert j.is_all_matched('date') # succeeds\n"
   ]
  },
  {
   "cell_type": "markdown",
   "metadata": {},
   "source": [
    "## Use Case: detect and analyze id mismatch \n",
    "\n",
    "When joining data from different sources, eg different vendors, often your ids don't match and then you need to manually analyze the situation. With databolt this becomes much easier."
   ]
  },
  {
   "cell_type": "markdown",
   "metadata": {},
   "source": [
    "### 100% id mismatch\n",
    "\n",
    "Let's look at an example where say vendor 1 uses a different id convention than vendor 2 and none of the ids match."
   ]
  },
  {
   "cell_type": "code",
   "execution_count": 8,
   "metadata": {},
   "outputs": [
    {
     "name": "stdout",
     "output_type": "stream",
     "text": [
      "assert fails!\n"
     ]
    }
   ],
   "source": [
    "# create mismatch\n",
    "df2['id'] = df1['id'].str[1:-1]\n",
    "\n",
    "j = d6tjoin.utils.PreJoin([df1,df2],['id','date'])\n",
    "\n",
    "try:\n",
    "    assert j.is_all_matched() # fails\n",
    "except:\n",
    "    print('assert fails!')"
   ]
  },
  {
   "cell_type": "markdown",
   "metadata": {},
   "source": [
    "The QA check shows there's a problem, lets analyze the issue with `Prejoin.stats_prejoin()`. We can immediately see that none of the ids match."
   ]
  },
  {
   "cell_type": "code",
   "execution_count": 9,
   "metadata": {},
   "outputs": [
    {
     "data": {
      "text/html": [
       "<div>\n",
       "<style scoped>\n",
       "    .dataframe tbody tr th:only-of-type {\n",
       "        vertical-align: middle;\n",
       "    }\n",
       "\n",
       "    .dataframe tbody tr th {\n",
       "        vertical-align: top;\n",
       "    }\n",
       "\n",
       "    .dataframe thead th {\n",
       "        text-align: right;\n",
       "    }\n",
       "</style>\n",
       "<table border=\"1\" class=\"dataframe\">\n",
       "  <thead>\n",
       "    <tr style=\"text-align: right;\">\n",
       "      <th></th>\n",
       "      <th>key left</th>\n",
       "      <th>key right</th>\n",
       "      <th>all matched</th>\n",
       "      <th>inner</th>\n",
       "      <th>left</th>\n",
       "      <th>right</th>\n",
       "      <th>outer</th>\n",
       "      <th>unmatched total</th>\n",
       "      <th>unmatched left</th>\n",
       "      <th>unmatched right</th>\n",
       "    </tr>\n",
       "  </thead>\n",
       "  <tbody>\n",
       "    <tr>\n",
       "      <th>0</th>\n",
       "      <td>id</td>\n",
       "      <td>id</td>\n",
       "      <td>False</td>\n",
       "      <td>0</td>\n",
       "      <td>10</td>\n",
       "      <td>10</td>\n",
       "      <td>20</td>\n",
       "      <td>20</td>\n",
       "      <td>10</td>\n",
       "      <td>10</td>\n",
       "    </tr>\n",
       "    <tr>\n",
       "      <th>1</th>\n",
       "      <td>date</td>\n",
       "      <td>date</td>\n",
       "      <td>True</td>\n",
       "      <td>366</td>\n",
       "      <td>366</td>\n",
       "      <td>366</td>\n",
       "      <td>366</td>\n",
       "      <td>0</td>\n",
       "      <td>0</td>\n",
       "      <td>0</td>\n",
       "    </tr>\n",
       "    <tr>\n",
       "      <th>2</th>\n",
       "      <td>__all__</td>\n",
       "      <td>__all__</td>\n",
       "      <td>False</td>\n",
       "      <td>0</td>\n",
       "      <td>3660</td>\n",
       "      <td>3660</td>\n",
       "      <td>7320</td>\n",
       "      <td>7320</td>\n",
       "      <td>3660</td>\n",
       "      <td>3660</td>\n",
       "    </tr>\n",
       "  </tbody>\n",
       "</table>\n",
       "</div>"
      ],
      "text/plain": [
       "  key left key right  all matched  inner  left  right  outer  unmatched total  \\\n",
       "0       id        id        False      0    10     10     20               20   \n",
       "1     date      date         True    366   366    366    366                0   \n",
       "2  __all__   __all__        False      0  3660   3660   7320             7320   \n",
       "\n",
       "   unmatched left  unmatched right  \n",
       "0              10               10  \n",
       "1               0                0  \n",
       "2            3660             3660  "
      ]
     },
     "execution_count": 9,
     "metadata": {},
     "output_type": "execute_result"
    }
   ],
   "source": [
    "j.stats_prejoin(print_only=False)"
   ]
  },
  {
   "cell_type": "markdown",
   "metadata": {},
   "source": [
    "Let's look at some of the mismatched records with `Prejoin.show_unmatched()`. Looks like there might be a length problem."
   ]
  },
  {
   "cell_type": "code",
   "execution_count": 10,
   "metadata": {},
   "outputs": [
    {
     "name": "stdout",
     "output_type": "stream",
     "text": [
      "                                       id       date         v\n",
      "732  818c280b-0d82-45e5-8286-cf42b884b0a6 2010-01-01  0.796229\n",
      "733  818c280b-0d82-45e5-8286-cf42b884b0a6 2010-01-02  0.811402\n",
      "734  818c280b-0d82-45e5-8286-cf42b884b0a6 2010-01-03  0.301586\n",
      "                                      id       date         v\n",
      "1098  27bf350-47a9-415f-a53c-bd1ea931bc3 2010-01-01  0.526386\n",
      "1099  27bf350-47a9-415f-a53c-bd1ea931bc3 2010-01-02  0.830395\n",
      "1100  27bf350-47a9-415f-a53c-bd1ea931bc3 2010-01-03  0.824349\n"
     ]
    }
   ],
   "source": [
    "print(j.show_unmatched('id')['left'])\n",
    "print(j.show_unmatched('id')['right'])"
   ]
  },
  {
   "cell_type": "markdown",
   "metadata": {},
   "source": [
    "We can show string length statistics using `d6tjoin.utils.df_str_summary()` which confirms that the id string lenghts are different."
   ]
  },
  {
   "cell_type": "code",
   "execution_count": 11,
   "metadata": {
    "scrolled": true
   },
   "outputs": [
    {
     "name": "stdout",
     "output_type": "stream",
     "text": [
      "    mean  median   min   max   total\n",
      "id  36.0    36.0  36.0  36.0  3660.0\n",
      "    mean  median   min   max   total\n",
      "id  34.0    34.0  34.0  34.0  3660.0\n"
     ]
    }
   ],
   "source": [
    "print(d6tjoin.utils.df_str_summary(df1,['id']))\n",
    "print(d6tjoin.utils.df_str_summary(df2,['id']))\n"
   ]
  },
  {
   "cell_type": "markdown",
   "metadata": {},
   "source": [
    "### Partial id mismatch\n",
    "\n",
    "Let's look at another example where there is a partial mismatch. In this case let's say vendor 2 only has a certain percentage of ids covered."
   ]
  },
  {
   "cell_type": "code",
   "execution_count": 12,
   "metadata": {
    "scrolled": true
   },
   "outputs": [
    {
     "name": "stdout",
     "output_type": "stream",
     "text": [
      "assert fails!\n"
     ]
    }
   ],
   "source": [
    "# create partial mismatch\n",
    "uuid_sel = np.array(uuid1)[np.random.choice(nobs, nobs//5, replace=False)].tolist()\n",
    "df2 = df1[~df1['id'].isin(uuid_sel)]\n",
    "\n",
    "j = d6tjoin.utils.PreJoin([df1,df2],['id','date'])\n",
    "\n",
    "try:\n",
    "    assert j.is_all_matched() # fails\n",
    "except:\n",
    "    print('assert fails!')"
   ]
  },
  {
   "cell_type": "markdown",
   "metadata": {},
   "source": [
    "Again we've quickly identified a problem. This would typically cause you to do manual and tedious manual QA work but with `Prejoin.stats_prejoin()` you can quickly see how many ids were mismatched."
   ]
  },
  {
   "cell_type": "code",
   "execution_count": 13,
   "metadata": {
    "scrolled": true
   },
   "outputs": [
    {
     "data": {
      "text/html": [
       "<div>\n",
       "<style scoped>\n",
       "    .dataframe tbody tr th:only-of-type {\n",
       "        vertical-align: middle;\n",
       "    }\n",
       "\n",
       "    .dataframe tbody tr th {\n",
       "        vertical-align: top;\n",
       "    }\n",
       "\n",
       "    .dataframe thead th {\n",
       "        text-align: right;\n",
       "    }\n",
       "</style>\n",
       "<table border=\"1\" class=\"dataframe\">\n",
       "  <thead>\n",
       "    <tr style=\"text-align: right;\">\n",
       "      <th></th>\n",
       "      <th>key left</th>\n",
       "      <th>key right</th>\n",
       "      <th>all matched</th>\n",
       "      <th>inner</th>\n",
       "      <th>left</th>\n",
       "      <th>right</th>\n",
       "      <th>outer</th>\n",
       "      <th>unmatched total</th>\n",
       "      <th>unmatched left</th>\n",
       "      <th>unmatched right</th>\n",
       "    </tr>\n",
       "  </thead>\n",
       "  <tbody>\n",
       "    <tr>\n",
       "      <th>0</th>\n",
       "      <td>id</td>\n",
       "      <td>id</td>\n",
       "      <td>False</td>\n",
       "      <td>8</td>\n",
       "      <td>10</td>\n",
       "      <td>8</td>\n",
       "      <td>10</td>\n",
       "      <td>2</td>\n",
       "      <td>2</td>\n",
       "      <td>0</td>\n",
       "    </tr>\n",
       "    <tr>\n",
       "      <th>1</th>\n",
       "      <td>date</td>\n",
       "      <td>date</td>\n",
       "      <td>True</td>\n",
       "      <td>366</td>\n",
       "      <td>366</td>\n",
       "      <td>366</td>\n",
       "      <td>366</td>\n",
       "      <td>0</td>\n",
       "      <td>0</td>\n",
       "      <td>0</td>\n",
       "    </tr>\n",
       "    <tr>\n",
       "      <th>2</th>\n",
       "      <td>__all__</td>\n",
       "      <td>__all__</td>\n",
       "      <td>False</td>\n",
       "      <td>2928</td>\n",
       "      <td>3660</td>\n",
       "      <td>2928</td>\n",
       "      <td>3660</td>\n",
       "      <td>732</td>\n",
       "      <td>732</td>\n",
       "      <td>0</td>\n",
       "    </tr>\n",
       "  </tbody>\n",
       "</table>\n",
       "</div>"
      ],
      "text/plain": [
       "  key left key right  all matched  inner  left  right  outer  unmatched total  \\\n",
       "0       id        id        False      8    10      8     10                2   \n",
       "1     date      date         True    366   366    366    366                0   \n",
       "2  __all__   __all__        False   2928  3660   2928   3660              732   \n",
       "\n",
       "   unmatched left  unmatched right  \n",
       "0               2                0  \n",
       "1               0                0  \n",
       "2             732                0  "
      ]
     },
     "execution_count": 13,
     "metadata": {},
     "output_type": "execute_result"
    }
   ],
   "source": [
    "j.stats_prejoin(print_only=False)"
   ]
  },
  {
   "cell_type": "markdown",
   "metadata": {},
   "source": [
    "## Use Case: detect and analyze date mismatch \n",
    "\n",
    "Dates are another common sources of frustration for data engineers working with time series data. Dates come in a variety of different formats and conventions. Let's use databolt to analyze a date mismatch situation."
   ]
  },
  {
   "cell_type": "code",
   "execution_count": 14,
   "metadata": {},
   "outputs": [],
   "source": [
    "dates2 = pd.bdate_range('1/1/2010','1/1/2011') # business instead of calendar dates\n",
    "df2 = pd.DataFrame(list(itertools.product(uuid1,dates2)),columns=['id','date'])\n",
    "df2['v']=np.random.sample(df2.shape[0])"
   ]
  },
  {
   "cell_type": "markdown",
   "metadata": {},
   "source": [
    "To highlight some different functionality for `Prejoin.stats_prejoin()` we use `print_only=False` which returns the dataframe instead of printing results. The QA test for all matches fails."
   ]
  },
  {
   "cell_type": "code",
   "execution_count": 15,
   "metadata": {},
   "outputs": [
    {
     "name": "stdout",
     "output_type": "stream",
     "text": [
      "assert fails!\n"
     ]
    }
   ],
   "source": [
    "j = d6tjoin.utils.PreJoin([df1,df2],['id','date'])\n",
    "dfr = j.stats_prejoin(print_only=False)\n",
    "try:\n",
    "    assert dfr['all matched'].all() # fails\n",
    "except:\n",
    "    print('assert fails!')"
   ]
  },
  {
   "cell_type": "markdown",
   "metadata": {},
   "source": [
    "We can look at the dataframe to see 105 dates are not matched."
   ]
  },
  {
   "cell_type": "code",
   "execution_count": 16,
   "metadata": {},
   "outputs": [
    {
     "data": {
      "text/html": [
       "<div>\n",
       "<style scoped>\n",
       "    .dataframe tbody tr th:only-of-type {\n",
       "        vertical-align: middle;\n",
       "    }\n",
       "\n",
       "    .dataframe tbody tr th {\n",
       "        vertical-align: top;\n",
       "    }\n",
       "\n",
       "    .dataframe thead th {\n",
       "        text-align: right;\n",
       "    }\n",
       "</style>\n",
       "<table border=\"1\" class=\"dataframe\">\n",
       "  <thead>\n",
       "    <tr style=\"text-align: right;\">\n",
       "      <th></th>\n",
       "      <th>key left</th>\n",
       "      <th>key right</th>\n",
       "      <th>all matched</th>\n",
       "      <th>inner</th>\n",
       "      <th>left</th>\n",
       "      <th>right</th>\n",
       "      <th>outer</th>\n",
       "      <th>unmatched total</th>\n",
       "      <th>unmatched left</th>\n",
       "      <th>unmatched right</th>\n",
       "    </tr>\n",
       "  </thead>\n",
       "  <tbody>\n",
       "    <tr>\n",
       "      <th>0</th>\n",
       "      <td>id</td>\n",
       "      <td>id</td>\n",
       "      <td>True</td>\n",
       "      <td>10</td>\n",
       "      <td>10</td>\n",
       "      <td>10</td>\n",
       "      <td>10</td>\n",
       "      <td>0</td>\n",
       "      <td>0</td>\n",
       "      <td>0</td>\n",
       "    </tr>\n",
       "    <tr>\n",
       "      <th>1</th>\n",
       "      <td>date</td>\n",
       "      <td>date</td>\n",
       "      <td>False</td>\n",
       "      <td>261</td>\n",
       "      <td>366</td>\n",
       "      <td>261</td>\n",
       "      <td>366</td>\n",
       "      <td>105</td>\n",
       "      <td>105</td>\n",
       "      <td>0</td>\n",
       "    </tr>\n",
       "    <tr>\n",
       "      <th>2</th>\n",
       "      <td>__all__</td>\n",
       "      <td>__all__</td>\n",
       "      <td>False</td>\n",
       "      <td>2610</td>\n",
       "      <td>3660</td>\n",
       "      <td>2610</td>\n",
       "      <td>3660</td>\n",
       "      <td>1050</td>\n",
       "      <td>1050</td>\n",
       "      <td>0</td>\n",
       "    </tr>\n",
       "  </tbody>\n",
       "</table>\n",
       "</div>"
      ],
      "text/plain": [
       "  key left key right  all matched  inner  left  right  outer  unmatched total  \\\n",
       "0       id        id         True     10    10     10     10                0   \n",
       "1     date      date        False    261   366    261    366              105   \n",
       "2  __all__   __all__        False   2610  3660   2610   3660             1050   \n",
       "\n",
       "   unmatched left  unmatched right  \n",
       "0               0                0  \n",
       "1             105                0  \n",
       "2            1050                0  "
      ]
     },
     "execution_count": 16,
     "metadata": {},
     "output_type": "execute_result"
    }
   ],
   "source": [
    "dfr"
   ]
  },
  {
   "cell_type": "markdown",
   "metadata": {},
   "source": [
    "We can look at mismatched records using `Prejoin.show_unmatched()`. Here we will return all mismatched records into a dataframe you can analyze."
   ]
  },
  {
   "cell_type": "code",
   "execution_count": 17,
   "metadata": {},
   "outputs": [],
   "source": [
    "dft = j.show_unmatched('date',keys_only=False,nrecords=-1,nrows=-1)['left']"
   ]
  },
  {
   "cell_type": "code",
   "execution_count": 18,
   "metadata": {},
   "outputs": [
    {
     "data": {
      "text/html": [
       "<div>\n",
       "<style scoped>\n",
       "    .dataframe tbody tr th:only-of-type {\n",
       "        vertical-align: middle;\n",
       "    }\n",
       "\n",
       "    .dataframe tbody tr th {\n",
       "        vertical-align: top;\n",
       "    }\n",
       "\n",
       "    .dataframe thead th {\n",
       "        text-align: right;\n",
       "    }\n",
       "</style>\n",
       "<table border=\"1\" class=\"dataframe\">\n",
       "  <thead>\n",
       "    <tr style=\"text-align: right;\">\n",
       "      <th></th>\n",
       "      <th>id</th>\n",
       "      <th>date</th>\n",
       "      <th>v</th>\n",
       "    </tr>\n",
       "  </thead>\n",
       "  <tbody>\n",
       "    <tr>\n",
       "      <th>1</th>\n",
       "      <td>a531acd5-cdfd-480b-ba7f-5766f85053ac</td>\n",
       "      <td>2010-01-02</td>\n",
       "      <td>0.893936</td>\n",
       "    </tr>\n",
       "    <tr>\n",
       "      <th>2</th>\n",
       "      <td>a531acd5-cdfd-480b-ba7f-5766f85053ac</td>\n",
       "      <td>2010-01-03</td>\n",
       "      <td>0.338417</td>\n",
       "    </tr>\n",
       "    <tr>\n",
       "      <th>8</th>\n",
       "      <td>a531acd5-cdfd-480b-ba7f-5766f85053ac</td>\n",
       "      <td>2010-01-09</td>\n",
       "      <td>0.268176</td>\n",
       "    </tr>\n",
       "    <tr>\n",
       "      <th>9</th>\n",
       "      <td>a531acd5-cdfd-480b-ba7f-5766f85053ac</td>\n",
       "      <td>2010-01-10</td>\n",
       "      <td>0.681733</td>\n",
       "    </tr>\n",
       "    <tr>\n",
       "      <th>15</th>\n",
       "      <td>a531acd5-cdfd-480b-ba7f-5766f85053ac</td>\n",
       "      <td>2010-01-16</td>\n",
       "      <td>0.479296</td>\n",
       "    </tr>\n",
       "  </tbody>\n",
       "</table>\n",
       "</div>"
      ],
      "text/plain": [
       "                                      id       date         v\n",
       "1   a531acd5-cdfd-480b-ba7f-5766f85053ac 2010-01-02  0.893936\n",
       "2   a531acd5-cdfd-480b-ba7f-5766f85053ac 2010-01-03  0.338417\n",
       "8   a531acd5-cdfd-480b-ba7f-5766f85053ac 2010-01-09  0.268176\n",
       "9   a531acd5-cdfd-480b-ba7f-5766f85053ac 2010-01-10  0.681733\n",
       "15  a531acd5-cdfd-480b-ba7f-5766f85053ac 2010-01-16  0.479296"
      ]
     },
     "execution_count": 18,
     "metadata": {},
     "output_type": "execute_result"
    }
   ],
   "source": [
    "dft.head()"
   ]
  },
  {
   "cell_type": "markdown",
   "metadata": {},
   "source": [
    "Looking at the weekdays of the mismatched entries, you can see they are all weekends. "
   ]
  },
  {
   "cell_type": "code",
   "execution_count": 19,
   "metadata": {},
   "outputs": [
    {
     "data": {
      "text/plain": [
       "array([5, 6], dtype=int64)"
      ]
     },
     "execution_count": 19,
     "metadata": {},
     "output_type": "execute_result"
    }
   ],
   "source": [
    "dft['date_wkday']=dft['date'].dt.weekday\n",
    "dft['date_wkday'].unique()"
   ]
  },
  {
   "cell_type": "markdown",
   "metadata": {},
   "source": [
    "## Conclusion\n",
    "\n",
    "Joining datasets from different sources can be a big time waster for data engineers! With databolt you can quickly do join QA and analyze problems without doing manual tedious work."
   ]
  },
  {
   "cell_type": "code",
   "execution_count": null,
   "metadata": {},
   "outputs": [],
   "source": []
  }
 ],
 "metadata": {
  "kernelspec": {
   "display_name": "Python 3",
   "language": "python",
   "name": "python3"
  },
  "language_info": {
   "codemirror_mode": {
    "name": "ipython",
    "version": 3
   },
   "file_extension": ".py",
   "mimetype": "text/x-python",
   "name": "python",
   "nbconvert_exporter": "python",
   "pygments_lexer": "ipython3",
   "version": "3.6.1"
  }
 },
 "nbformat": 4,
 "nbformat_minor": 2
}
