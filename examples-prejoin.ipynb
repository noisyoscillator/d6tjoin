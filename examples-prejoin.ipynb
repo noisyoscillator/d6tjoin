{
 "cells": [
  {
   "cell_type": "markdown",
   "metadata": {},
   "source": [
    "# Data Engineering in Python with databolt  - Identify and analyze join problems (d6tlib/d6tjoin.utils)\n",
    "\n",
    "## Introduction\n",
    "\n",
    "Joining datasets is a common data engineering operation. However, often there are problems merging datasets from different sources because of mismatched identifiers, date conventions etc. \n",
    "\n",
    "** `d6tjoin.utils` module allows you to test for join accuracy and quickly identify and analyze join problems. **\n",
    "\n",
    "Here are some examples which show you how to:\n",
    "* do join quality analysis\n",
    "* detect and analyze a string-based identifiers mismatch\n",
    "* detect and analyze a calendar vs business date mismatch"
   ]
  },
  {
   "cell_type": "markdown",
   "metadata": {},
   "source": [
    "## Generate sample data\n",
    "\n",
    "Let's generate some random respresentative data:\n",
    "* identifier (string)\n",
    "* date (np.datetime)\n",
    "* values (flaot)"
   ]
  },
  {
   "cell_type": "code",
   "execution_count": 40,
   "metadata": {
    "collapsed": true
   },
   "outputs": [],
   "source": [
    "import pandas as pd\n",
    "import numpy as np\n",
    "import uuid\n",
    "import itertools\n",
    "import importlib\n",
    "\n",
    "import d6tjoin.utils\n",
    "importlib.reload(d6tjoin.utils)\n",
    "\n",
    "# ******************************************\n",
    "# generate sample data\n",
    "# ******************************************\n",
    "nobs = 10\n",
    "uuid1 = [str(uuid.uuid4()) for _ in range(nobs)]\n",
    "dates1 = pd.date_range('1/1/2010','1/1/2011')\n",
    "\n",
    "df1 = pd.DataFrame(list(itertools.product(uuid1,dates1)),columns=['id','date'])\n",
    "df1['v']=np.random.sample(df1.shape[0])"
   ]
  },
  {
   "cell_type": "code",
   "execution_count": 41,
   "metadata": {},
   "outputs": [
    {
     "data": {
      "text/html": [
       "<div>\n",
       "<style>\n",
       "    .dataframe thead tr:only-child th {\n",
       "        text-align: right;\n",
       "    }\n",
       "\n",
       "    .dataframe thead th {\n",
       "        text-align: left;\n",
       "    }\n",
       "\n",
       "    .dataframe tbody tr th {\n",
       "        vertical-align: top;\n",
       "    }\n",
       "</style>\n",
       "<table border=\"1\" class=\"dataframe\">\n",
       "  <thead>\n",
       "    <tr style=\"text-align: right;\">\n",
       "      <th></th>\n",
       "      <th>id</th>\n",
       "      <th>date</th>\n",
       "      <th>v</th>\n",
       "    </tr>\n",
       "  </thead>\n",
       "  <tbody>\n",
       "    <tr>\n",
       "      <th>0</th>\n",
       "      <td>8796d3bf-6c92-4310-9df1-ecc60309abf3</td>\n",
       "      <td>2010-01-01</td>\n",
       "      <td>0.036653</td>\n",
       "    </tr>\n",
       "    <tr>\n",
       "      <th>1</th>\n",
       "      <td>8796d3bf-6c92-4310-9df1-ecc60309abf3</td>\n",
       "      <td>2010-01-02</td>\n",
       "      <td>0.753851</td>\n",
       "    </tr>\n",
       "    <tr>\n",
       "      <th>366</th>\n",
       "      <td>bea1f3ab-000a-48a1-abc8-b4b3431183a4</td>\n",
       "      <td>2010-01-01</td>\n",
       "      <td>0.625615</td>\n",
       "    </tr>\n",
       "    <tr>\n",
       "      <th>367</th>\n",
       "      <td>bea1f3ab-000a-48a1-abc8-b4b3431183a4</td>\n",
       "      <td>2010-01-02</td>\n",
       "      <td>0.126366</td>\n",
       "    </tr>\n",
       "    <tr>\n",
       "      <th>732</th>\n",
       "      <td>a0c348a0-4f2c-4df7-8910-7cb9e2d36290</td>\n",
       "      <td>2010-01-01</td>\n",
       "      <td>0.734152</td>\n",
       "    </tr>\n",
       "    <tr>\n",
       "      <th>733</th>\n",
       "      <td>a0c348a0-4f2c-4df7-8910-7cb9e2d36290</td>\n",
       "      <td>2010-01-02</td>\n",
       "      <td>0.307320</td>\n",
       "    </tr>\n",
       "  </tbody>\n",
       "</table>\n",
       "</div>"
      ],
      "text/plain": [
       "                                       id       date         v\n",
       "0    8796d3bf-6c92-4310-9df1-ecc60309abf3 2010-01-01  0.036653\n",
       "1    8796d3bf-6c92-4310-9df1-ecc60309abf3 2010-01-02  0.753851\n",
       "366  bea1f3ab-000a-48a1-abc8-b4b3431183a4 2010-01-01  0.625615\n",
       "367  bea1f3ab-000a-48a1-abc8-b4b3431183a4 2010-01-02  0.126366\n",
       "732  a0c348a0-4f2c-4df7-8910-7cb9e2d36290 2010-01-01  0.734152\n",
       "733  a0c348a0-4f2c-4df7-8910-7cb9e2d36290 2010-01-02  0.307320"
      ]
     },
     "execution_count": 41,
     "metadata": {},
     "output_type": "execute_result"
    }
   ],
   "source": [
    "df1.groupby(['id']).head(2).head(6)"
   ]
  },
  {
   "cell_type": "markdown",
   "metadata": {},
   "source": [
    "## Use Case: assert 100% join accuracy for data integrity checks \n",
    "\n",
    "In data enginerring QA you want to test that data is joined correctly. This is particularly useful for detecting potential data problems in production."
   ]
  },
  {
   "cell_type": "code",
   "execution_count": 42,
   "metadata": {
    "collapsed": true
   },
   "outputs": [],
   "source": [
    "df2 = df1.copy()\n",
    "\n",
    "j = d6tjoin.utils.PreJoin([df1,df2],['id','date'])\n",
    "assert j.is_all_matched() # succeeds\n",
    "assert j.is_all_matched('id') # succeeds\n",
    "assert j.is_all_matched('date') # succeeds\n"
   ]
  },
  {
   "cell_type": "markdown",
   "metadata": {},
   "source": [
    "## Use Case: detect and analyze id mismatch \n",
    "\n",
    "When joining data from different sources, eg different vendors, often your ids don't match and then you need to manually analyze the situation. With databolt this becomes much easier."
   ]
  },
  {
   "cell_type": "markdown",
   "metadata": {},
   "source": [
    "### 100% id mismatch\n",
    "\n",
    "Let's look at an example where say vendor 1 uses a different id convention than vendor 2 and none of the ids match."
   ]
  },
  {
   "cell_type": "code",
   "execution_count": 43,
   "metadata": {},
   "outputs": [
    {
     "ename": "AssertionError",
     "evalue": "",
     "output_type": "error",
     "traceback": [
      "\u001b[0;31m---------------------------------------------------------------------------\u001b[0m",
      "\u001b[0;31mAssertionError\u001b[0m                            Traceback (most recent call last)",
      "\u001b[0;32m<ipython-input-43-992635601321>\u001b[0m in \u001b[0;36m<module>\u001b[0;34m()\u001b[0m\n\u001b[1;32m      4\u001b[0m \u001b[0mj\u001b[0m \u001b[0;34m=\u001b[0m \u001b[0md6tjoin\u001b[0m\u001b[0;34m.\u001b[0m\u001b[0mutils\u001b[0m\u001b[0;34m.\u001b[0m\u001b[0mPreJoin\u001b[0m\u001b[0;34m(\u001b[0m\u001b[0;34m[\u001b[0m\u001b[0mdf1\u001b[0m\u001b[0;34m,\u001b[0m\u001b[0mdf2\u001b[0m\u001b[0;34m]\u001b[0m\u001b[0;34m,\u001b[0m\u001b[0;34m[\u001b[0m\u001b[0;34m'id'\u001b[0m\u001b[0;34m,\u001b[0m\u001b[0;34m'date'\u001b[0m\u001b[0;34m]\u001b[0m\u001b[0;34m)\u001b[0m\u001b[0;34m\u001b[0m\u001b[0m\n\u001b[1;32m      5\u001b[0m \u001b[0;34m\u001b[0m\u001b[0m\n\u001b[0;32m----> 6\u001b[0;31m \u001b[0;32massert\u001b[0m \u001b[0mj\u001b[0m\u001b[0;34m.\u001b[0m\u001b[0mis_all_matched\u001b[0m\u001b[0;34m(\u001b[0m\u001b[0;34m)\u001b[0m \u001b[0;31m# fails\u001b[0m\u001b[0;34m\u001b[0m\u001b[0m\n\u001b[0m",
      "\u001b[0;31mAssertionError\u001b[0m: "
     ]
    }
   ],
   "source": [
    "# create mismatch\n",
    "df2['id'] = df1['id'].str[1:-1]\n",
    "\n",
    "j = d6tjoin.utils.PreJoin([df1,df2],['id','date'])\n",
    "\n",
    "assert j.is_all_matched() # fails"
   ]
  },
  {
   "cell_type": "markdown",
   "metadata": {},
   "source": [
    "The QA check shows there's a problem, lets analyze the issue with `Prejoin.stats_prejoin()`. We can immediately see that none of the ids match."
   ]
  },
  {
   "cell_type": "code",
   "execution_count": 44,
   "metadata": {},
   "outputs": [
    {
     "data": {
      "text/html": [
       "<div>\n",
       "<style>\n",
       "    .dataframe thead tr:only-child th {\n",
       "        text-align: right;\n",
       "    }\n",
       "\n",
       "    .dataframe thead th {\n",
       "        text-align: left;\n",
       "    }\n",
       "\n",
       "    .dataframe tbody tr th {\n",
       "        vertical-align: top;\n",
       "    }\n",
       "</style>\n",
       "<table border=\"1\" class=\"dataframe\">\n",
       "  <thead>\n",
       "    <tr style=\"text-align: right;\">\n",
       "      <th></th>\n",
       "      <th>key left</th>\n",
       "      <th>key right</th>\n",
       "      <th>all matched</th>\n",
       "      <th>inner</th>\n",
       "      <th>left</th>\n",
       "      <th>right</th>\n",
       "      <th>outer</th>\n",
       "      <th>unmatched total</th>\n",
       "      <th>unmatched left</th>\n",
       "      <th>unmatched right</th>\n",
       "    </tr>\n",
       "  </thead>\n",
       "  <tbody>\n",
       "    <tr>\n",
       "      <th>0</th>\n",
       "      <td>id</td>\n",
       "      <td>id</td>\n",
       "      <td>False</td>\n",
       "      <td>0</td>\n",
       "      <td>10</td>\n",
       "      <td>10</td>\n",
       "      <td>20</td>\n",
       "      <td>20</td>\n",
       "      <td>10</td>\n",
       "      <td>10</td>\n",
       "    </tr>\n",
       "    <tr>\n",
       "      <th>1</th>\n",
       "      <td>date</td>\n",
       "      <td>date</td>\n",
       "      <td>True</td>\n",
       "      <td>366</td>\n",
       "      <td>366</td>\n",
       "      <td>366</td>\n",
       "      <td>366</td>\n",
       "      <td>0</td>\n",
       "      <td>0</td>\n",
       "      <td>0</td>\n",
       "    </tr>\n",
       "    <tr>\n",
       "      <th>2</th>\n",
       "      <td>__all__</td>\n",
       "      <td>__all__</td>\n",
       "      <td>False</td>\n",
       "      <td>0</td>\n",
       "      <td>3660</td>\n",
       "      <td>3660</td>\n",
       "      <td>7320</td>\n",
       "      <td>7320</td>\n",
       "      <td>3660</td>\n",
       "      <td>3660</td>\n",
       "    </tr>\n",
       "  </tbody>\n",
       "</table>\n",
       "</div>"
      ],
      "text/plain": [
       "  key left key right  all matched  inner  left  right  outer  unmatched total  \\\n",
       "0       id        id        False      0    10     10     20               20   \n",
       "1     date      date         True    366   366    366    366                0   \n",
       "2  __all__   __all__        False      0  3660   3660   7320             7320   \n",
       "\n",
       "   unmatched left  unmatched right  \n",
       "0              10               10  \n",
       "1               0                0  \n",
       "2            3660             3660  "
      ]
     },
     "execution_count": 44,
     "metadata": {},
     "output_type": "execute_result"
    }
   ],
   "source": [
    "j.stats_prejoin(print_only=False)"
   ]
  },
  {
   "cell_type": "markdown",
   "metadata": {},
   "source": [
    "Let's look at some of the mismatched records with `Prejoin.show_unmatched()`. Looks like there might be a length problem."
   ]
  },
  {
   "cell_type": "code",
   "execution_count": 45,
   "metadata": {},
   "outputs": [
    {
     "name": "stdout",
     "output_type": "stream",
     "text": [
      "732    a0c348a0-4f2c-4df7-8910-7cb9e2d36290\n",
      "733    a0c348a0-4f2c-4df7-8910-7cb9e2d36290\n",
      "734    a0c348a0-4f2c-4df7-8910-7cb9e2d36290\n",
      "Name: id, dtype: object\n",
      "366    ea1f3ab-000a-48a1-abc8-b4b3431183a\n",
      "367    ea1f3ab-000a-48a1-abc8-b4b3431183a\n",
      "368    ea1f3ab-000a-48a1-abc8-b4b3431183a\n",
      "Name: id, dtype: object\n"
     ]
    }
   ],
   "source": [
    "print(j.show_unmatched('id')['left'])\n",
    "print(j.show_unmatched('id')['right'])"
   ]
  },
  {
   "cell_type": "markdown",
   "metadata": {},
   "source": [
    "We can show string length statistics using `d6tjoin.utils.df_str_summary()` which confirms that the id string lenghts are different."
   ]
  },
  {
   "cell_type": "code",
   "execution_count": 46,
   "metadata": {
    "scrolled": true
   },
   "outputs": [
    {
     "name": "stdout",
     "output_type": "stream",
     "text": [
      "    mean  median   min   max   total\n",
      "id  36.0    36.0  36.0  36.0  3660.0\n",
      "    mean  median   min   max   total\n",
      "id  34.0    34.0  34.0  34.0  3660.0\n"
     ]
    }
   ],
   "source": [
    "print(d6tjoin.utils.df_str_summary(df1,['id']))\n",
    "print(d6tjoin.utils.df_str_summary(df2,['id']))\n"
   ]
  },
  {
   "cell_type": "markdown",
   "metadata": {},
   "source": [
    "### Partial id mismatch\n",
    "\n",
    "Let's look at another example where there is a partial mismatch. In this case let's say vendor 2 only has a certain percentage of ids covered."
   ]
  },
  {
   "cell_type": "code",
   "execution_count": 47,
   "metadata": {
    "scrolled": true
   },
   "outputs": [
    {
     "ename": "AssertionError",
     "evalue": "",
     "output_type": "error",
     "traceback": [
      "\u001b[0;31m---------------------------------------------------------------------------\u001b[0m",
      "\u001b[0;31mAssertionError\u001b[0m                            Traceback (most recent call last)",
      "\u001b[0;32m<ipython-input-47-3d163ead39ca>\u001b[0m in \u001b[0;36m<module>\u001b[0;34m()\u001b[0m\n\u001b[1;32m      5\u001b[0m \u001b[0mj\u001b[0m \u001b[0;34m=\u001b[0m \u001b[0md6tjoin\u001b[0m\u001b[0;34m.\u001b[0m\u001b[0mutils\u001b[0m\u001b[0;34m.\u001b[0m\u001b[0mPreJoin\u001b[0m\u001b[0;34m(\u001b[0m\u001b[0;34m[\u001b[0m\u001b[0mdf1\u001b[0m\u001b[0;34m,\u001b[0m\u001b[0mdf2\u001b[0m\u001b[0;34m]\u001b[0m\u001b[0;34m,\u001b[0m\u001b[0;34m[\u001b[0m\u001b[0;34m'id'\u001b[0m\u001b[0;34m,\u001b[0m\u001b[0;34m'date'\u001b[0m\u001b[0;34m]\u001b[0m\u001b[0;34m)\u001b[0m\u001b[0;34m\u001b[0m\u001b[0m\n\u001b[1;32m      6\u001b[0m \u001b[0;34m\u001b[0m\u001b[0m\n\u001b[0;32m----> 7\u001b[0;31m \u001b[0;32massert\u001b[0m \u001b[0mj\u001b[0m\u001b[0;34m.\u001b[0m\u001b[0mis_all_matched\u001b[0m\u001b[0;34m(\u001b[0m\u001b[0;34m)\u001b[0m \u001b[0;31m# fails\u001b[0m\u001b[0;34m\u001b[0m\u001b[0m\n\u001b[0m",
      "\u001b[0;31mAssertionError\u001b[0m: "
     ]
    }
   ],
   "source": [
    "# create partial mismatch\n",
    "uuid_sel = np.array(uuid1)[np.random.choice(nobs, nobs//5, replace=False)].tolist()\n",
    "df2 = df1[~df1['id'].isin(uuid_sel)]\n",
    "\n",
    "j = d6tjoin.utils.PreJoin([df1,df2],['id','date'])\n",
    "\n",
    "assert j.is_all_matched() # fails"
   ]
  },
  {
   "cell_type": "markdown",
   "metadata": {},
   "source": [
    "Again we've quickly identified a problem. This would typically cause you to do manual and tedious manual QA work but with `Prejoin.stats_prejoin()` you can quickly see how many ids were mismatched."
   ]
  },
  {
   "cell_type": "code",
   "execution_count": 48,
   "metadata": {
    "scrolled": true
   },
   "outputs": [
    {
     "data": {
      "text/html": [
       "<div>\n",
       "<style>\n",
       "    .dataframe thead tr:only-child th {\n",
       "        text-align: right;\n",
       "    }\n",
       "\n",
       "    .dataframe thead th {\n",
       "        text-align: left;\n",
       "    }\n",
       "\n",
       "    .dataframe tbody tr th {\n",
       "        vertical-align: top;\n",
       "    }\n",
       "</style>\n",
       "<table border=\"1\" class=\"dataframe\">\n",
       "  <thead>\n",
       "    <tr style=\"text-align: right;\">\n",
       "      <th></th>\n",
       "      <th>key left</th>\n",
       "      <th>key right</th>\n",
       "      <th>all matched</th>\n",
       "      <th>inner</th>\n",
       "      <th>left</th>\n",
       "      <th>right</th>\n",
       "      <th>outer</th>\n",
       "      <th>unmatched total</th>\n",
       "      <th>unmatched left</th>\n",
       "      <th>unmatched right</th>\n",
       "    </tr>\n",
       "  </thead>\n",
       "  <tbody>\n",
       "    <tr>\n",
       "      <th>0</th>\n",
       "      <td>id</td>\n",
       "      <td>id</td>\n",
       "      <td>False</td>\n",
       "      <td>8</td>\n",
       "      <td>10</td>\n",
       "      <td>8</td>\n",
       "      <td>10</td>\n",
       "      <td>2</td>\n",
       "      <td>2</td>\n",
       "      <td>0</td>\n",
       "    </tr>\n",
       "    <tr>\n",
       "      <th>1</th>\n",
       "      <td>date</td>\n",
       "      <td>date</td>\n",
       "      <td>True</td>\n",
       "      <td>366</td>\n",
       "      <td>366</td>\n",
       "      <td>366</td>\n",
       "      <td>366</td>\n",
       "      <td>0</td>\n",
       "      <td>0</td>\n",
       "      <td>0</td>\n",
       "    </tr>\n",
       "    <tr>\n",
       "      <th>2</th>\n",
       "      <td>__all__</td>\n",
       "      <td>__all__</td>\n",
       "      <td>False</td>\n",
       "      <td>2928</td>\n",
       "      <td>3660</td>\n",
       "      <td>2928</td>\n",
       "      <td>3660</td>\n",
       "      <td>732</td>\n",
       "      <td>732</td>\n",
       "      <td>0</td>\n",
       "    </tr>\n",
       "  </tbody>\n",
       "</table>\n",
       "</div>"
      ],
      "text/plain": [
       "  key left key right  all matched  inner  left  right  outer  unmatched total  \\\n",
       "0       id        id        False      8    10      8     10                2   \n",
       "1     date      date         True    366   366    366    366                0   \n",
       "2  __all__   __all__        False   2928  3660   2928   3660              732   \n",
       "\n",
       "   unmatched left  unmatched right  \n",
       "0               2                0  \n",
       "1               0                0  \n",
       "2             732                0  "
      ]
     },
     "execution_count": 48,
     "metadata": {},
     "output_type": "execute_result"
    }
   ],
   "source": [
    "j.stats_prejoin(print_only=False)"
   ]
  },
  {
   "cell_type": "markdown",
   "metadata": {},
   "source": [
    "## Use Case: detect and analyze date mismatch \n",
    "\n",
    "Dates are another common sources of frustration for data engineers working with time series data. Dates come in a variety of different formats and conventions. Let's use databolt to analyze a date mismatch situation."
   ]
  },
  {
   "cell_type": "code",
   "execution_count": 49,
   "metadata": {
    "collapsed": true
   },
   "outputs": [],
   "source": [
    "dates2 = pd.bdate_range('1/1/2010','1/1/2011') # business instead of calendar dates\n",
    "df2 = pd.DataFrame(list(itertools.product(uuid1,dates2)),columns=['id','date'])\n",
    "df2['v']=np.random.sample(df2.shape[0])"
   ]
  },
  {
   "cell_type": "markdown",
   "metadata": {},
   "source": [
    "To highlight some different functionality for `Prejoin.stats_prejoin()` we use `print_only=False` which returns the dataframe instead of printing results. The QA test for all matches fails."
   ]
  },
  {
   "cell_type": "code",
   "execution_count": 50,
   "metadata": {},
   "outputs": [
    {
     "ename": "AssertionError",
     "evalue": "",
     "output_type": "error",
     "traceback": [
      "\u001b[0;31m---------------------------------------------------------------------------\u001b[0m",
      "\u001b[0;31mAssertionError\u001b[0m                            Traceback (most recent call last)",
      "\u001b[0;32m<ipython-input-50-79592b38ddd1>\u001b[0m in \u001b[0;36m<module>\u001b[0;34m()\u001b[0m\n\u001b[1;32m      1\u001b[0m \u001b[0mj\u001b[0m \u001b[0;34m=\u001b[0m \u001b[0md6tjoin\u001b[0m\u001b[0;34m.\u001b[0m\u001b[0mutils\u001b[0m\u001b[0;34m.\u001b[0m\u001b[0mPreJoin\u001b[0m\u001b[0;34m(\u001b[0m\u001b[0;34m[\u001b[0m\u001b[0mdf1\u001b[0m\u001b[0;34m,\u001b[0m\u001b[0mdf2\u001b[0m\u001b[0;34m]\u001b[0m\u001b[0;34m,\u001b[0m\u001b[0;34m[\u001b[0m\u001b[0;34m'id'\u001b[0m\u001b[0;34m,\u001b[0m\u001b[0;34m'date'\u001b[0m\u001b[0;34m]\u001b[0m\u001b[0;34m)\u001b[0m\u001b[0;34m\u001b[0m\u001b[0m\n\u001b[1;32m      2\u001b[0m \u001b[0mdfr\u001b[0m \u001b[0;34m=\u001b[0m \u001b[0mj\u001b[0m\u001b[0;34m.\u001b[0m\u001b[0mstats_prejoin\u001b[0m\u001b[0;34m(\u001b[0m\u001b[0mprint_only\u001b[0m\u001b[0;34m=\u001b[0m\u001b[0;32mFalse\u001b[0m\u001b[0;34m)\u001b[0m\u001b[0;34m\u001b[0m\u001b[0m\n\u001b[0;32m----> 3\u001b[0;31m \u001b[0;32massert\u001b[0m \u001b[0mdfr\u001b[0m\u001b[0;34m[\u001b[0m\u001b[0;34m'all matched'\u001b[0m\u001b[0;34m]\u001b[0m\u001b[0;34m.\u001b[0m\u001b[0mall\u001b[0m\u001b[0;34m(\u001b[0m\u001b[0;34m)\u001b[0m \u001b[0;31m# fails\u001b[0m\u001b[0;34m\u001b[0m\u001b[0m\n\u001b[0m",
      "\u001b[0;31mAssertionError\u001b[0m: "
     ]
    }
   ],
   "source": [
    "j = d6tjoin.utils.PreJoin([df1,df2],['id','date'])\n",
    "dfr = j.stats_prejoin(print_only=False)\n",
    "assert dfr['all matched'].all() # fails"
   ]
  },
  {
   "cell_type": "markdown",
   "metadata": {},
   "source": [
    "We can look at the dataframe to see 105 dates are not matched."
   ]
  },
  {
   "cell_type": "code",
   "execution_count": 51,
   "metadata": {},
   "outputs": [
    {
     "data": {
      "text/html": [
       "<div>\n",
       "<style>\n",
       "    .dataframe thead tr:only-child th {\n",
       "        text-align: right;\n",
       "    }\n",
       "\n",
       "    .dataframe thead th {\n",
       "        text-align: left;\n",
       "    }\n",
       "\n",
       "    .dataframe tbody tr th {\n",
       "        vertical-align: top;\n",
       "    }\n",
       "</style>\n",
       "<table border=\"1\" class=\"dataframe\">\n",
       "  <thead>\n",
       "    <tr style=\"text-align: right;\">\n",
       "      <th></th>\n",
       "      <th>key left</th>\n",
       "      <th>key right</th>\n",
       "      <th>all matched</th>\n",
       "      <th>inner</th>\n",
       "      <th>left</th>\n",
       "      <th>right</th>\n",
       "      <th>outer</th>\n",
       "      <th>unmatched total</th>\n",
       "      <th>unmatched left</th>\n",
       "      <th>unmatched right</th>\n",
       "    </tr>\n",
       "  </thead>\n",
       "  <tbody>\n",
       "    <tr>\n",
       "      <th>0</th>\n",
       "      <td>id</td>\n",
       "      <td>id</td>\n",
       "      <td>True</td>\n",
       "      <td>10</td>\n",
       "      <td>10</td>\n",
       "      <td>10</td>\n",
       "      <td>10</td>\n",
       "      <td>0</td>\n",
       "      <td>0</td>\n",
       "      <td>0</td>\n",
       "    </tr>\n",
       "    <tr>\n",
       "      <th>1</th>\n",
       "      <td>date</td>\n",
       "      <td>date</td>\n",
       "      <td>False</td>\n",
       "      <td>261</td>\n",
       "      <td>366</td>\n",
       "      <td>261</td>\n",
       "      <td>366</td>\n",
       "      <td>105</td>\n",
       "      <td>105</td>\n",
       "      <td>0</td>\n",
       "    </tr>\n",
       "    <tr>\n",
       "      <th>2</th>\n",
       "      <td>__all__</td>\n",
       "      <td>__all__</td>\n",
       "      <td>False</td>\n",
       "      <td>2610</td>\n",
       "      <td>3660</td>\n",
       "      <td>2610</td>\n",
       "      <td>3660</td>\n",
       "      <td>1050</td>\n",
       "      <td>1050</td>\n",
       "      <td>0</td>\n",
       "    </tr>\n",
       "  </tbody>\n",
       "</table>\n",
       "</div>"
      ],
      "text/plain": [
       "  key left key right  all matched  inner  left  right  outer  unmatched total  \\\n",
       "0       id        id         True     10    10     10     10                0   \n",
       "1     date      date        False    261   366    261    366              105   \n",
       "2  __all__   __all__        False   2610  3660   2610   3660             1050   \n",
       "\n",
       "   unmatched left  unmatched right  \n",
       "0               0                0  \n",
       "1             105                0  \n",
       "2            1050                0  "
      ]
     },
     "execution_count": 51,
     "metadata": {},
     "output_type": "execute_result"
    }
   ],
   "source": [
    "dfr"
   ]
  },
  {
   "cell_type": "markdown",
   "metadata": {},
   "source": [
    "We can look at mismatched records using `Prejoin.show_unmatched()`. Here we will return all mismatched records into a dataframe you can analyze."
   ]
  },
  {
   "cell_type": "code",
   "execution_count": 52,
   "metadata": {
    "collapsed": true
   },
   "outputs": [],
   "source": [
    "dft = j.show_unmatched('date',keys_only=False,nrecords=-1,nrows=-1)['left']"
   ]
  },
  {
   "cell_type": "code",
   "execution_count": 53,
   "metadata": {},
   "outputs": [
    {
     "data": {
      "text/html": [
       "<div>\n",
       "<style>\n",
       "    .dataframe thead tr:only-child th {\n",
       "        text-align: right;\n",
       "    }\n",
       "\n",
       "    .dataframe thead th {\n",
       "        text-align: left;\n",
       "    }\n",
       "\n",
       "    .dataframe tbody tr th {\n",
       "        vertical-align: top;\n",
       "    }\n",
       "</style>\n",
       "<table border=\"1\" class=\"dataframe\">\n",
       "  <thead>\n",
       "    <tr style=\"text-align: right;\">\n",
       "      <th></th>\n",
       "      <th>id</th>\n",
       "      <th>date</th>\n",
       "      <th>v</th>\n",
       "    </tr>\n",
       "  </thead>\n",
       "  <tbody>\n",
       "    <tr>\n",
       "      <th>1</th>\n",
       "      <td>8796d3bf-6c92-4310-9df1-ecc60309abf3</td>\n",
       "      <td>2010-01-02</td>\n",
       "      <td>0.753851</td>\n",
       "    </tr>\n",
       "    <tr>\n",
       "      <th>2</th>\n",
       "      <td>8796d3bf-6c92-4310-9df1-ecc60309abf3</td>\n",
       "      <td>2010-01-03</td>\n",
       "      <td>0.719520</td>\n",
       "    </tr>\n",
       "    <tr>\n",
       "      <th>8</th>\n",
       "      <td>8796d3bf-6c92-4310-9df1-ecc60309abf3</td>\n",
       "      <td>2010-01-09</td>\n",
       "      <td>0.026064</td>\n",
       "    </tr>\n",
       "    <tr>\n",
       "      <th>9</th>\n",
       "      <td>8796d3bf-6c92-4310-9df1-ecc60309abf3</td>\n",
       "      <td>2010-01-10</td>\n",
       "      <td>0.512670</td>\n",
       "    </tr>\n",
       "    <tr>\n",
       "      <th>15</th>\n",
       "      <td>8796d3bf-6c92-4310-9df1-ecc60309abf3</td>\n",
       "      <td>2010-01-16</td>\n",
       "      <td>0.439586</td>\n",
       "    </tr>\n",
       "  </tbody>\n",
       "</table>\n",
       "</div>"
      ],
      "text/plain": [
       "                                      id       date         v\n",
       "1   8796d3bf-6c92-4310-9df1-ecc60309abf3 2010-01-02  0.753851\n",
       "2   8796d3bf-6c92-4310-9df1-ecc60309abf3 2010-01-03  0.719520\n",
       "8   8796d3bf-6c92-4310-9df1-ecc60309abf3 2010-01-09  0.026064\n",
       "9   8796d3bf-6c92-4310-9df1-ecc60309abf3 2010-01-10  0.512670\n",
       "15  8796d3bf-6c92-4310-9df1-ecc60309abf3 2010-01-16  0.439586"
      ]
     },
     "execution_count": 53,
     "metadata": {},
     "output_type": "execute_result"
    }
   ],
   "source": [
    "dft.head()"
   ]
  },
  {
   "cell_type": "markdown",
   "metadata": {},
   "source": [
    "Looking at the weekdays of the mismatched entries, you can see they are all weekends. "
   ]
  },
  {
   "cell_type": "code",
   "execution_count": 54,
   "metadata": {},
   "outputs": [
    {
     "data": {
      "text/plain": [
       "array([5, 6])"
      ]
     },
     "execution_count": 54,
     "metadata": {},
     "output_type": "execute_result"
    }
   ],
   "source": [
    "dft['date_wkday']=dft['date'].dt.weekday\n",
    "dft['date_wkday'].unique()"
   ]
  },
  {
   "cell_type": "markdown",
   "metadata": {},
   "source": [
    "## Conclusion\n",
    "\n",
    "Joining datasets from different sources can be a big time waster for data engineers! With databolt you can quickly do join QA and analyze problems without doing manual tedious work."
   ]
  },
  {
   "cell_type": "code",
   "execution_count": null,
   "metadata": {
    "collapsed": true
   },
   "outputs": [],
   "source": []
  }
 ],
 "metadata": {
  "kernelspec": {
   "display_name": "Python 3",
   "language": "python",
   "name": "python3"
  },
  "language_info": {
   "codemirror_mode": {
    "name": "ipython",
    "version": 3
   },
   "file_extension": ".py",
   "mimetype": "text/x-python",
   "name": "python",
   "nbconvert_exporter": "python",
   "pygments_lexer": "ipython3",
   "version": "3.6.3"
  }
 },
 "nbformat": 4,
 "nbformat_minor": 2
}
